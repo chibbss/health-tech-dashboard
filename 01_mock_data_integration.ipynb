{
  "nbformat": 4,
  "nbformat_minor": 0,
  "metadata": {
    "colab": {
      "provenance": [],
      "toc_visible": true
    },
    "kernelspec": {
      "name": "python3",
      "display_name": "Python 3"
    },
    "language_info": {
      "name": "python"
    }
  },
  "cells": [
    {
      "cell_type": "code",
      "execution_count": 2,
      "metadata": {
        "colab": {
          "base_uri": "https://localhost:8080/"
        },
        "id": "WQWBYTNTkF89",
        "outputId": "cd958477-9b82-4a0e-af2c-a85d107fe20d"
      },
      "outputs": [
        {
          "output_type": "stream",
          "name": "stdout",
          "text": [
            "Mounted at /content/drive\n"
          ]
        }
      ],
      "source": [
        "# Import necessary libraries\n",
        "import json\n",
        "import pandas as pd\n",
        "from google.colab import drive\n",
        "\n",
        "# Mount Google Drive to save outputs\n",
        "drive.mount('/content/drive')"
      ]
    },
    {
      "cell_type": "code",
      "source": [
        "# Define directory to save outputs\n",
        "import os\n",
        "output_dir = '/content/drive/My Drive/health_data_outputs'\n",
        "os.makedirs(output_dir, exist_ok=True)\n",
        "print(f\"Output directory created: {output_dir}\")"
      ],
      "metadata": {
        "colab": {
          "base_uri": "https://localhost:8080/"
        },
        "id": "BRJvEhvBk3H8",
        "outputId": "b11ddc08-95c1-49f6-da95-d24485e9aaf7"
      },
      "execution_count": 4,
      "outputs": [
        {
          "output_type": "stream",
          "name": "stdout",
          "text": [
            "Output directory created: /content/drive/My Drive/health_data_outputs\n"
          ]
        }
      ]
    },
    {
      "cell_type": "code",
      "source": [
        "# Mock data for fallback (for testing if no API access)\n",
        "mock_data = {\n",
        "    \"user_id\": \"12345\",\n",
        "    \"metrics\": [\n",
        "        {\"date\": \"2024-11-22\", \"steps\": 8500, \"heart_rate\": 75, \"sleep_hours\": 6.5, \"hrv\": 45},\n",
        "        {\"date\": \"2024-11-21\", \"steps\": 9500, \"heart_rate\": 72, \"sleep_hours\": 7.2, \"hrv\": 50},\n",
        "    ]\n",
        "}\n",
        "\n",
        "def fetch_data():\n",
        "    \"\"\"\n",
        "    Simulate fetching data or retrieve mock data for testing.\n",
        "    Returns:\n",
        "        dict: Wearable data in JSON format.\n",
        "    \"\"\"\n",
        "    # Normally, you would fetch data from an API.\n",
        "    # For now, use the mock_data as a fallback.\n",
        "    print(\"Data fetched successfully!\")\n",
        "    return mock_data"
      ],
      "metadata": {
        "id": "Um-aEY6_lPmd"
      },
      "execution_count": 5,
      "outputs": []
    },
    {
      "cell_type": "code",
      "source": [
        "def normalize_data(data):\n",
        "    \"\"\"\n",
        "    Normalize the fetched wearable data into a pandas DataFrame.\n",
        "\n",
        "    Args:\n",
        "        data (dict): Raw JSON data from API or mock data.\n",
        "\n",
        "    Returns:\n",
        "        pd.DataFrame: Normalized wearable data.\n",
        "    \"\"\"\n",
        "    # Extract user_id and metrics\n",
        "    user_id = data[\"user_id\"]\n",
        "    metrics = data[\"metrics\"]\n",
        "\n",
        "    # Convert metrics to a DataFrame\n",
        "    df = pd.DataFrame(metrics)\n",
        "    df[\"user_id\"] = user_id  # Add user_id to every record\n",
        "    print(\"Data normalized into DataFrame!\")\n",
        "    return df\n",
        "\n",
        "# Fetch and normalize data\n",
        "raw_data = fetch_data()\n",
        "normalized_data = normalize_data(raw_data)\n",
        "print(normalized_data)"
      ],
      "metadata": {
        "colab": {
          "base_uri": "https://localhost:8080/"
        },
        "id": "IuljP_w9lWtk",
        "outputId": "80ed266d-2cd8-4a40-9ff2-269dd5dd6c71"
      },
      "execution_count": 6,
      "outputs": [
        {
          "output_type": "stream",
          "name": "stdout",
          "text": [
            "Data fetched successfully!\n",
            "Data normalized into DataFrame!\n",
            "         date  steps  heart_rate  sleep_hours  hrv user_id\n",
            "0  2024-11-22   8500          75          6.5   45   12345\n",
            "1  2024-11-21   9500          72          7.2   50   12345\n"
          ]
        }
      ]
    },
    {
      "cell_type": "code",
      "source": [
        "def save_data(df, output_dir):\n",
        "    \"\"\"\n",
        "    Save the normalized data to JSON and CSV formats.\n",
        "\n",
        "    Args:\n",
        "        df (pd.DataFrame): Normalized data.\n",
        "        output_dir (str): Directory to save the files.\n",
        "    \"\"\"\n",
        "    json_path = os.path.join(output_dir, \"wearable_data.json\")\n",
        "    csv_path = os.path.join(output_dir, \"wearable_data.csv\")\n",
        "\n",
        "    # Save as JSON\n",
        "    df.to_json(json_path, orient=\"records\", lines=True)\n",
        "    print(f\"Data saved to JSON: {json_path}\")\n",
        "\n",
        "    # Save as CSV\n",
        "    df.to_csv(csv_path, index=False)\n",
        "    print(f\"Data saved to CSV: {csv_path}\")\n",
        "\n",
        "# Save normalized data\n",
        "save_data(normalized_data, output_dir)"
      ],
      "metadata": {
        "colab": {
          "base_uri": "https://localhost:8080/"
        },
        "id": "kVYyIwPDlcRl",
        "outputId": "84f0292e-ab1b-41c9-f55b-05e09859132c"
      },
      "execution_count": 7,
      "outputs": [
        {
          "output_type": "stream",
          "name": "stdout",
          "text": [
            "Data saved to JSON: /content/drive/My Drive/health_data_outputs/wearable_data.json\n",
            "Data saved to CSV: /content/drive/My Drive/health_data_outputs/wearable_data.csv\n"
          ]
        }
      ]
    }
  ]
}